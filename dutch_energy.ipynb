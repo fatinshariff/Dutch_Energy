{
 "cells": [
  {
   "cell_type": "markdown",
   "metadata": {},
   "source": [
    "# Energy Consumption in Netherlands "
   ]
  },
  {
   "cell_type": "markdown",
   "metadata": {},
   "source": [
    "## Gathering data"
   ]
  },
  {
   "cell_type": "code",
   "execution_count": 1,
   "metadata": {},
   "outputs": [],
   "source": [
    "import pandas as pd"
   ]
  },
  {
   "cell_type": "code",
   "execution_count": 2,
   "metadata": {},
   "outputs": [],
   "source": [
    "years = range(2010,2020)\n",
    "providers= ['enexis','liander','stedin']\n",
    "pieces= []\n",
    "\n",
    "for year in years:\n",
    "    for provider in providers:\n",
    "        if provider != 'stedin':\n",
    "            path= 'dutch-energy/Electricity/{0}_electricity_0101{1}.csv'.format(provider,int(year))\n",
    "        else :\n",
    "            path= 'dutch-energy/Electricity/{0}_electricity_{1}.csv'.format(provider,int(year))\n",
    "        frame = pd.read_csv(path)\n",
    "        frame['year']=year\n",
    "        #rewrite the net_manager column value with the provider (enexis/liander/stedin) because some values in this \n",
    "        #column are represented by code numbers and some by the providers which are not consistent, so this make it more tidy\n",
    "        frame['net_manager']=provider \n",
    "        pieces.append(frame)\n",
    "        \n",
    "eltr_df=pd.concat(pieces,ignore_index=True, sort=False)\n",
    "        "
   ]
  },
  {
   "cell_type": "code",
   "execution_count": 3,
   "metadata": {},
   "outputs": [],
   "source": [
    "years = range(2010,2020)\n",
    "providers= ['enexis','liander','stedin']\n",
    "pieces= []\n",
    "\n",
    "for year in years:\n",
    "    for provider in providers:\n",
    "        if provider != 'stedin':\n",
    "            path= 'dutch-energy/Gas/{0}_gas_0101{1}.csv'.format(provider,int(year))\n",
    "        else :\n",
    "            path= 'dutch-energy/Gas/{0}_gas_{1}.csv'.format(provider,int(year))\n",
    "        frame = pd.read_csv(path)\n",
    "        frame['year']=year\n",
    "        frame['net_manager']=provider \n",
    "        pieces.append(frame)\n",
    "        \n",
    "gas_df=pd.concat(pieces,ignore_index=True, sort=False)\n",
    "        "
   ]
  },
  {
   "cell_type": "markdown",
   "metadata": {},
   "source": [
    "There are two sets of dataset that represents electricity data and named as `eltr_df` and another one as `gas_df` that represent the gas data."
   ]
  },
  {
   "cell_type": "code",
   "execution_count": 4,
   "metadata": {},
   "outputs": [
    {
     "data": {
      "text/html": [
       "<div>\n",
       "<style scoped>\n",
       "    .dataframe tbody tr th:only-of-type {\n",
       "        vertical-align: middle;\n",
       "    }\n",
       "\n",
       "    .dataframe tbody tr th {\n",
       "        vertical-align: top;\n",
       "    }\n",
       "\n",
       "    .dataframe thead th {\n",
       "        text-align: right;\n",
       "    }\n",
       "</style>\n",
       "<table border=\"1\" class=\"dataframe\">\n",
       "  <thead>\n",
       "    <tr style=\"text-align: right;\">\n",
       "      <th></th>\n",
       "      <th>net_manager</th>\n",
       "      <th>purchase_area</th>\n",
       "      <th>street</th>\n",
       "      <th>zipcode_from</th>\n",
       "      <th>zipcode_to</th>\n",
       "      <th>city</th>\n",
       "      <th>delivery_perc</th>\n",
       "      <th>num_connections</th>\n",
       "      <th>perc_of_active_connections</th>\n",
       "      <th>type_conn_perc</th>\n",
       "      <th>type_of_connection</th>\n",
       "      <th>annual_consume</th>\n",
       "      <th>annual_consume_lowtarif_perc</th>\n",
       "      <th>smartmeter_perc</th>\n",
       "      <th>year</th>\n",
       "    </tr>\n",
       "  </thead>\n",
       "  <tbody>\n",
       "    <tr>\n",
       "      <th>0</th>\n",
       "      <td>enexis</td>\n",
       "      <td>ENEXIS</td>\n",
       "      <td>Sasdijk</td>\n",
       "      <td>4251AB</td>\n",
       "      <td>4251AB</td>\n",
       "      <td>WERKENDAM</td>\n",
       "      <td>100.0</td>\n",
       "      <td>16.0</td>\n",
       "      <td>100.0</td>\n",
       "      <td>NaN</td>\n",
       "      <td>NaN</td>\n",
       "      <td>4282.0</td>\n",
       "      <td>25.0</td>\n",
       "      <td>0.0</td>\n",
       "      <td>2010</td>\n",
       "    </tr>\n",
       "    <tr>\n",
       "      <th>1</th>\n",
       "      <td>enexis</td>\n",
       "      <td>ENEXIS</td>\n",
       "      <td>Sasdijk</td>\n",
       "      <td>4251AC</td>\n",
       "      <td>4251AC</td>\n",
       "      <td>WERKENDAM</td>\n",
       "      <td>100.0</td>\n",
       "      <td>11.0</td>\n",
       "      <td>100.0</td>\n",
       "      <td>NaN</td>\n",
       "      <td>NaN</td>\n",
       "      <td>5113.0</td>\n",
       "      <td>10.0</td>\n",
       "      <td>0.0</td>\n",
       "      <td>2010</td>\n",
       "    </tr>\n",
       "    <tr>\n",
       "      <th>2</th>\n",
       "      <td>enexis</td>\n",
       "      <td>ENEXIS</td>\n",
       "      <td>Sasdijk</td>\n",
       "      <td>4251AD</td>\n",
       "      <td>4251AD</td>\n",
       "      <td>WERKENDAM</td>\n",
       "      <td>100.0</td>\n",
       "      <td>30.0</td>\n",
       "      <td>100.0</td>\n",
       "      <td>NaN</td>\n",
       "      <td>NaN</td>\n",
       "      <td>4809.0</td>\n",
       "      <td>34.0</td>\n",
       "      <td>0.0</td>\n",
       "      <td>2010</td>\n",
       "    </tr>\n",
       "    <tr>\n",
       "      <th>3</th>\n",
       "      <td>enexis</td>\n",
       "      <td>ENEXIS</td>\n",
       "      <td>Nieuweweg</td>\n",
       "      <td>4251AE</td>\n",
       "      <td>4251AG</td>\n",
       "      <td>WERKENDAM</td>\n",
       "      <td>100.0</td>\n",
       "      <td>21.0</td>\n",
       "      <td>100.0</td>\n",
       "      <td>NaN</td>\n",
       "      <td>NaN</td>\n",
       "      <td>5015.0</td>\n",
       "      <td>44.0</td>\n",
       "      <td>0.0</td>\n",
       "      <td>2010</td>\n",
       "    </tr>\n",
       "    <tr>\n",
       "      <th>4</th>\n",
       "      <td>enexis</td>\n",
       "      <td>ENEXIS</td>\n",
       "      <td>Koppenhof</td>\n",
       "      <td>4251AH</td>\n",
       "      <td>4251AH</td>\n",
       "      <td>WERKENDAM</td>\n",
       "      <td>100.0</td>\n",
       "      <td>12.0</td>\n",
       "      <td>100.0</td>\n",
       "      <td>NaN</td>\n",
       "      <td>NaN</td>\n",
       "      <td>3074.0</td>\n",
       "      <td>22.0</td>\n",
       "      <td>0.0</td>\n",
       "      <td>2010</td>\n",
       "    </tr>\n",
       "  </tbody>\n",
       "</table>\n",
       "</div>"
      ],
      "text/plain": [
       "  net_manager purchase_area     street zipcode_from zipcode_to       city  \\\n",
       "0      enexis        ENEXIS    Sasdijk       4251AB     4251AB  WERKENDAM   \n",
       "1      enexis        ENEXIS    Sasdijk       4251AC     4251AC  WERKENDAM   \n",
       "2      enexis        ENEXIS    Sasdijk       4251AD     4251AD  WERKENDAM   \n",
       "3      enexis        ENEXIS  Nieuweweg       4251AE     4251AG  WERKENDAM   \n",
       "4      enexis        ENEXIS  Koppenhof       4251AH     4251AH  WERKENDAM   \n",
       "\n",
       "   delivery_perc  num_connections  perc_of_active_connections  type_conn_perc  \\\n",
       "0          100.0             16.0                       100.0             NaN   \n",
       "1          100.0             11.0                       100.0             NaN   \n",
       "2          100.0             30.0                       100.0             NaN   \n",
       "3          100.0             21.0                       100.0             NaN   \n",
       "4          100.0             12.0                       100.0             NaN   \n",
       "\n",
       "  type_of_connection  annual_consume  annual_consume_lowtarif_perc  \\\n",
       "0                NaN          4282.0                          25.0   \n",
       "1                NaN          5113.0                          10.0   \n",
       "2                NaN          4809.0                          34.0   \n",
       "3                NaN          5015.0                          44.0   \n",
       "4                NaN          3074.0                          22.0   \n",
       "\n",
       "   smartmeter_perc  year  \n",
       "0              0.0  2010  \n",
       "1              0.0  2010  \n",
       "2              0.0  2010  \n",
       "3              0.0  2010  \n",
       "4              0.0  2010  "
      ]
     },
     "execution_count": 4,
     "metadata": {},
     "output_type": "execute_result"
    }
   ],
   "source": [
    "#overview of the electricity data\n",
    "eltr_df.head()"
   ]
  },
  {
   "cell_type": "code",
   "execution_count": 5,
   "metadata": {
    "scrolled": true
   },
   "outputs": [
    {
     "data": {
      "text/html": [
       "<div>\n",
       "<style scoped>\n",
       "    .dataframe tbody tr th:only-of-type {\n",
       "        vertical-align: middle;\n",
       "    }\n",
       "\n",
       "    .dataframe tbody tr th {\n",
       "        vertical-align: top;\n",
       "    }\n",
       "\n",
       "    .dataframe thead th {\n",
       "        text-align: right;\n",
       "    }\n",
       "</style>\n",
       "<table border=\"1\" class=\"dataframe\">\n",
       "  <thead>\n",
       "    <tr style=\"text-align: right;\">\n",
       "      <th></th>\n",
       "      <th>net_manager</th>\n",
       "      <th>purchase_area</th>\n",
       "      <th>street</th>\n",
       "      <th>zipcode_from</th>\n",
       "      <th>zipcode_to</th>\n",
       "      <th>city</th>\n",
       "      <th>delivery_perc</th>\n",
       "      <th>num_connections</th>\n",
       "      <th>perc_of_active_connections</th>\n",
       "      <th>type_conn_perc</th>\n",
       "      <th>type_of_connection</th>\n",
       "      <th>annual_consume</th>\n",
       "      <th>annual_consume_lowtarif_perc</th>\n",
       "      <th>smartmeter_perc</th>\n",
       "      <th>year</th>\n",
       "    </tr>\n",
       "  </thead>\n",
       "  <tbody>\n",
       "    <tr>\n",
       "      <th>0</th>\n",
       "      <td>enexis</td>\n",
       "      <td>ENEXIS</td>\n",
       "      <td>Antwerpsestraat</td>\n",
       "      <td>4611AC</td>\n",
       "      <td>4611AD</td>\n",
       "      <td>BERGEN OP ZOOM</td>\n",
       "      <td>100.0</td>\n",
       "      <td>17.0</td>\n",
       "      <td>100.0</td>\n",
       "      <td>NaN</td>\n",
       "      <td>NaN</td>\n",
       "      <td>496.0</td>\n",
       "      <td>0.0</td>\n",
       "      <td>NaN</td>\n",
       "      <td>2010</td>\n",
       "    </tr>\n",
       "    <tr>\n",
       "      <th>1</th>\n",
       "      <td>enexis</td>\n",
       "      <td>ENEXIS</td>\n",
       "      <td>Antwerpsestraat</td>\n",
       "      <td>4611AE</td>\n",
       "      <td>4611AE</td>\n",
       "      <td>BERGEN OP ZOOM</td>\n",
       "      <td>100.0</td>\n",
       "      <td>11.0</td>\n",
       "      <td>100.0</td>\n",
       "      <td>NaN</td>\n",
       "      <td>NaN</td>\n",
       "      <td>355.0</td>\n",
       "      <td>0.0</td>\n",
       "      <td>NaN</td>\n",
       "      <td>2010</td>\n",
       "    </tr>\n",
       "    <tr>\n",
       "      <th>2</th>\n",
       "      <td>enexis</td>\n",
       "      <td>ENEXIS</td>\n",
       "      <td>Antwerpsestraat</td>\n",
       "      <td>4611AG</td>\n",
       "      <td>4611AJ</td>\n",
       "      <td>BERGEN OP ZOOM</td>\n",
       "      <td>100.0</td>\n",
       "      <td>24.0</td>\n",
       "      <td>100.0</td>\n",
       "      <td>NaN</td>\n",
       "      <td>NaN</td>\n",
       "      <td>3074.0</td>\n",
       "      <td>0.0</td>\n",
       "      <td>NaN</td>\n",
       "      <td>2010</td>\n",
       "    </tr>\n",
       "    <tr>\n",
       "      <th>3</th>\n",
       "      <td>enexis</td>\n",
       "      <td>ENEXIS</td>\n",
       "      <td>Antwerpsestraat</td>\n",
       "      <td>4611AK</td>\n",
       "      <td>4611AK</td>\n",
       "      <td>BERGEN OP ZOOM</td>\n",
       "      <td>100.0</td>\n",
       "      <td>14.0</td>\n",
       "      <td>100.0</td>\n",
       "      <td>NaN</td>\n",
       "      <td>NaN</td>\n",
       "      <td>13456.0</td>\n",
       "      <td>0.0</td>\n",
       "      <td>NaN</td>\n",
       "      <td>2010</td>\n",
       "    </tr>\n",
       "    <tr>\n",
       "      <th>4</th>\n",
       "      <td>enexis</td>\n",
       "      <td>ENEXIS</td>\n",
       "      <td>Zuid - Oostsingel</td>\n",
       "      <td>4611AL</td>\n",
       "      <td>4611BA</td>\n",
       "      <td>BERGEN OP ZOOM</td>\n",
       "      <td>100.0</td>\n",
       "      <td>23.0</td>\n",
       "      <td>100.0</td>\n",
       "      <td>NaN</td>\n",
       "      <td>NaN</td>\n",
       "      <td>10096.0</td>\n",
       "      <td>0.0</td>\n",
       "      <td>NaN</td>\n",
       "      <td>2010</td>\n",
       "    </tr>\n",
       "  </tbody>\n",
       "</table>\n",
       "</div>"
      ],
      "text/plain": [
       "  net_manager purchase_area             street zipcode_from zipcode_to  \\\n",
       "0      enexis        ENEXIS    Antwerpsestraat       4611AC     4611AD   \n",
       "1      enexis        ENEXIS    Antwerpsestraat       4611AE     4611AE   \n",
       "2      enexis        ENEXIS    Antwerpsestraat       4611AG     4611AJ   \n",
       "3      enexis        ENEXIS    Antwerpsestraat       4611AK     4611AK   \n",
       "4      enexis        ENEXIS  Zuid - Oostsingel       4611AL     4611BA   \n",
       "\n",
       "             city  delivery_perc  num_connections  perc_of_active_connections  \\\n",
       "0  BERGEN OP ZOOM          100.0             17.0                       100.0   \n",
       "1  BERGEN OP ZOOM          100.0             11.0                       100.0   \n",
       "2  BERGEN OP ZOOM          100.0             24.0                       100.0   \n",
       "3  BERGEN OP ZOOM          100.0             14.0                       100.0   \n",
       "4  BERGEN OP ZOOM          100.0             23.0                       100.0   \n",
       "\n",
       "   type_conn_perc type_of_connection  annual_consume  \\\n",
       "0             NaN                NaN           496.0   \n",
       "1             NaN                NaN           355.0   \n",
       "2             NaN                NaN          3074.0   \n",
       "3             NaN                NaN         13456.0   \n",
       "4             NaN                NaN         10096.0   \n",
       "\n",
       "   annual_consume_lowtarif_perc  smartmeter_perc  year  \n",
       "0                           0.0              NaN  2010  \n",
       "1                           0.0              NaN  2010  \n",
       "2                           0.0              NaN  2010  \n",
       "3                           0.0              NaN  2010  \n",
       "4                           0.0              NaN  2010  "
      ]
     },
     "execution_count": 5,
     "metadata": {},
     "output_type": "execute_result"
    }
   ],
   "source": [
    "#overview of the gas data\n",
    "gas_df.head()"
   ]
  },
  {
   "cell_type": "markdown",
   "metadata": {},
   "source": [
    "## Assessing Data"
   ]
  },
  {
   "cell_type": "code",
   "execution_count": 6,
   "metadata": {
    "scrolled": true
   },
   "outputs": [
    {
     "name": "stdout",
     "output_type": "stream",
     "text": [
      "<class 'pandas.core.frame.DataFrame'>\n",
      "RangeIndex: 3351624 entries, 0 to 3351623\n",
      "Data columns (total 15 columns):\n",
      "net_manager                     object\n",
      "purchase_area                   object\n",
      "street                          object\n",
      "zipcode_from                    object\n",
      "zipcode_to                      object\n",
      "city                            object\n",
      "delivery_perc                   float64\n",
      "num_connections                 float64\n",
      "perc_of_active_connections      float64\n",
      "type_conn_perc                  float64\n",
      "type_of_connection              object\n",
      "annual_consume                  float64\n",
      "annual_consume_lowtarif_perc    float64\n",
      "smartmeter_perc                 float64\n",
      "year                            int64\n",
      "dtypes: float64(7), int64(1), object(7)\n",
      "memory usage: 383.6+ MB\n",
      "<class 'pandas.core.frame.DataFrame'>\n",
      "RangeIndex: 2901043 entries, 0 to 2901042\n",
      "Data columns (total 15 columns):\n",
      "net_manager                     object\n",
      "purchase_area                   object\n",
      "street                          object\n",
      "zipcode_from                    object\n",
      "zipcode_to                      object\n",
      "city                            object\n",
      "delivery_perc                   float64\n",
      "num_connections                 float64\n",
      "perc_of_active_connections      float64\n",
      "type_conn_perc                  float64\n",
      "type_of_connection              object\n",
      "annual_consume                  float64\n",
      "annual_consume_lowtarif_perc    float64\n",
      "smartmeter_perc                 float64\n",
      "year                            int64\n",
      "dtypes: float64(7), int64(1), object(7)\n",
      "memory usage: 332.0+ MB\n"
     ]
    },
    {
     "data": {
      "text/plain": [
       "(None, None)"
      ]
     },
     "execution_count": 6,
     "metadata": {},
     "output_type": "execute_result"
    }
   ],
   "source": [
    "eltr_df.info(), gas_df.info()"
   ]
  },
  {
   "cell_type": "code",
   "execution_count": 7,
   "metadata": {},
   "outputs": [
    {
     "data": {
      "text/plain": [
       "(net_manager                          0\n",
       " purchase_area                   813492\n",
       " street                               0\n",
       " zipcode_from                         0\n",
       " zipcode_to                           0\n",
       " city                                 0\n",
       " delivery_perc                      582\n",
       " num_connections                      0\n",
       " perc_of_active_connections           0\n",
       " type_conn_perc                  107512\n",
       " type_of_connection              107581\n",
       " annual_consume                       0\n",
       " annual_consume_lowtarif_perc         0\n",
       " smartmeter_perc                      0\n",
       " year                                 0\n",
       " dtype: int64, net_manager                          0\n",
       " purchase_area                   235935\n",
       " street                               0\n",
       " zipcode_from                         0\n",
       " zipcode_to                           0\n",
       " city                                 0\n",
       " delivery_perc                        0\n",
       " num_connections                      0\n",
       " perc_of_active_connections           0\n",
       " type_conn_perc                   82966\n",
       " type_of_connection               82966\n",
       " annual_consume                       0\n",
       " annual_consume_lowtarif_perc         0\n",
       " smartmeter_perc                 950202\n",
       " year                                 0\n",
       " dtype: int64)"
      ]
     },
     "execution_count": 7,
     "metadata": {},
     "output_type": "execute_result"
    }
   ],
   "source": [
    "#finding the null values for columns in both dataframe\n",
    "eltr_df.isna().sum(),gas_df.isna().sum()"
   ]
  },
  {
   "cell_type": "code",
   "execution_count": 8,
   "metadata": {},
   "outputs": [
    {
     "data": {
      "text/plain": [
       "(0, 0)"
      ]
     },
     "execution_count": 8,
     "metadata": {},
     "output_type": "execute_result"
    }
   ],
   "source": [
    "#find if there is any duplicate in both df\n",
    "(gas_df.duplicated().sum(),gas_df.duplicated().sum()) "
   ]
  },
  {
   "cell_type": "markdown",
   "metadata": {},
   "source": [
    "## Data Visualisation"
   ]
  },
  {
   "cell_type": "markdown",
   "metadata": {},
   "source": [
    "### How are all three network administrators total connections for each year from 2010-2019?"
   ]
  },
  {
   "cell_type": "code",
   "execution_count": 9,
   "metadata": {},
   "outputs": [],
   "source": [
    "import matplotlib.pyplot as plt\n",
    "import seaborn as sns\n",
    "%matplotlib inline\n",
    "sns.set_style('darkgrid')\n"
   ]
  },
  {
   "cell_type": "code",
   "execution_count": 10,
   "metadata": {
    "scrolled": true
   },
   "outputs": [
    {
     "data": {
      "text/plain": [
       "year  net_manager\n",
       "2010  enexis         2311361.0\n",
       "      liander        3056931.0\n",
       "      stedin         2016388.0\n",
       "2011  enexis         2338819.0\n",
       "      liander        3095020.0\n",
       "Name: num_connections, dtype: float64"
      ]
     },
     "execution_count": 10,
     "metadata": {},
     "output_type": "execute_result"
    }
   ],
   "source": [
    "#network adminstrator as 'na'\n",
    "#grouping the data by year and ther network manager(enexis,liander or stedin)\n",
    "na_eltr= eltr_df.groupby(['year','net_manager']) \n",
    "na_el_conn= na_eltr.num_connections.sum()\n",
    "na_el_conn.head()"
   ]
  },
  {
   "cell_type": "code",
   "execution_count": 11,
   "metadata": {
    "scrolled": true
   },
   "outputs": [
    {
     "data": {
      "text/html": [
       "<div>\n",
       "<style scoped>\n",
       "    .dataframe tbody tr th:only-of-type {\n",
       "        vertical-align: middle;\n",
       "    }\n",
       "\n",
       "    .dataframe tbody tr th {\n",
       "        vertical-align: top;\n",
       "    }\n",
       "\n",
       "    .dataframe thead th {\n",
       "        text-align: right;\n",
       "    }\n",
       "</style>\n",
       "<table border=\"1\" class=\"dataframe\">\n",
       "  <thead>\n",
       "    <tr style=\"text-align: right;\">\n",
       "      <th></th>\n",
       "      <th>year</th>\n",
       "      <th>net_manager</th>\n",
       "      <th>num_connections</th>\n",
       "    </tr>\n",
       "  </thead>\n",
       "  <tbody>\n",
       "    <tr>\n",
       "      <th>0</th>\n",
       "      <td>2010</td>\n",
       "      <td>enexis</td>\n",
       "      <td>2311361.0</td>\n",
       "    </tr>\n",
       "    <tr>\n",
       "      <th>1</th>\n",
       "      <td>2010</td>\n",
       "      <td>liander</td>\n",
       "      <td>3056931.0</td>\n",
       "    </tr>\n",
       "    <tr>\n",
       "      <th>2</th>\n",
       "      <td>2010</td>\n",
       "      <td>stedin</td>\n",
       "      <td>2016388.0</td>\n",
       "    </tr>\n",
       "    <tr>\n",
       "      <th>3</th>\n",
       "      <td>2011</td>\n",
       "      <td>enexis</td>\n",
       "      <td>2338819.0</td>\n",
       "    </tr>\n",
       "    <tr>\n",
       "      <th>4</th>\n",
       "      <td>2011</td>\n",
       "      <td>liander</td>\n",
       "      <td>3095020.0</td>\n",
       "    </tr>\n",
       "  </tbody>\n",
       "</table>\n",
       "</div>"
      ],
      "text/plain": [
       "   year net_manager  num_connections\n",
       "0  2010      enexis        2311361.0\n",
       "1  2010     liander        3056931.0\n",
       "2  2010      stedin        2016388.0\n",
       "3  2011      enexis        2338819.0\n",
       "4  2011     liander        3095020.0"
      ]
     },
     "execution_count": 11,
     "metadata": {},
     "output_type": "execute_result"
    }
   ],
   "source": [
    "#reshape the data for plotting\n",
    "na_el_conn=na_el_conn.reset_index()\n",
    "na_el_conn.head()"
   ]
  },
  {
   "cell_type": "code",
   "execution_count": 12,
   "metadata": {
    "scrolled": true
   },
   "outputs": [],
   "source": [
    "#repeat the above for gas data\n",
    "na_gas= gas_df.groupby(['year','net_manager']) \n",
    "na_gas_conn= na_gas.num_connections.sum()\n",
    "na_gas_conn=na_gas_conn.reset_index()\n"
   ]
  },
  {
   "cell_type": "code",
   "execution_count": 13,
   "metadata": {
    "scrolled": false
   },
   "outputs": [
    {
     "data": {
      "image/png": "[encoded data removed]",
      "text/plain": [
       "<Figure size 504x504 with 2 Axes>"
      ]
     },
     "metadata": {
      "needs_background": "light"
     },
     "output_type": "display_data"
    }
   ],
   "source": [
    "plt.figure(figsize=[7,7])\n",
    "\n",
    "plt.subplot(2,1,1)\n",
    "ax1 = sns.barplot(data= na_el_conn,x='year', y= 'num_connections',hue='net_manager',alpha=0.9)\n",
    "plt.legend(loc=3,ncol=3, framealpha=1)\n",
    "\n",
    "plt.subplot(2,1,2)\n",
    "ax2 = sns.barplot(data= na_gas_conn,x='year', y= 'num_connections',hue='net_manager',alpha=0.9)\n",
    "ax2.legend(loc=3,ncol=3, framealpha=1)\n",
    "\n",
    "plt.show()"
   ]
  },
  {
   "cell_type": "markdown",
   "metadata": {},
   "source": [
    "Liander have the highest total connections for each year and the total connections increases for liander and enexis throughout the decade. Stedin on the other hand doesn't show any significant improvement for the electricity connections throughout the years."
   ]
  },
  {
   "cell_type": "markdown",
   "metadata": {},
   "source": [
    "### The total consumption of Electricity (kWh) and Gas (m3) across the years"
   ]
  },
  {
   "cell_type": "markdown",
   "metadata": {},
   "source": [
    "To see the consumption for both electricity and gas for each year, what I did was to compare the total consumption for each year and compare them with the mean consumption for each connection. I wanted to see if the consumption correlate with people using more energy."
   ]
  },
  {
   "cell_type": "code",
   "execution_count": 14,
   "metadata": {
    "scrolled": true
   },
   "outputs": [
    {
     "data": {
      "text/html": [
       "<div>\n",
       "<style scoped>\n",
       "    .dataframe tbody tr th:only-of-type {\n",
       "        vertical-align: middle;\n",
       "    }\n",
       "\n",
       "    .dataframe tbody tr th {\n",
       "        vertical-align: top;\n",
       "    }\n",
       "\n",
       "    .dataframe thead th {\n",
       "        text-align: right;\n",
       "    }\n",
       "</style>\n",
       "<table border=\"1\" class=\"dataframe\">\n",
       "  <thead>\n",
       "    <tr style=\"text-align: right;\">\n",
       "      <th></th>\n",
       "      <th>net_manager</th>\n",
       "      <th>purchase_area</th>\n",
       "      <th>street</th>\n",
       "      <th>zipcode_from</th>\n",
       "      <th>zipcode_to</th>\n",
       "      <th>city</th>\n",
       "      <th>delivery_perc</th>\n",
       "      <th>num_connections</th>\n",
       "      <th>perc_of_active_connections</th>\n",
       "      <th>type_conn_perc</th>\n",
       "      <th>type_of_connection</th>\n",
       "      <th>annual_consume</th>\n",
       "      <th>annual_consume_lowtarif_perc</th>\n",
       "      <th>smartmeter_perc</th>\n",
       "      <th>year</th>\n",
       "      <th>cons_per_conn</th>\n",
       "    </tr>\n",
       "  </thead>\n",
       "  <tbody>\n",
       "    <tr>\n",
       "      <th>0</th>\n",
       "      <td>enexis</td>\n",
       "      <td>ENEXIS</td>\n",
       "      <td>Sasdijk</td>\n",
       "      <td>4251AB</td>\n",
       "      <td>4251AB</td>\n",
       "      <td>WERKENDAM</td>\n",
       "      <td>100.0</td>\n",
       "      <td>16.0</td>\n",
       "      <td>100.0</td>\n",
       "      <td>NaN</td>\n",
       "      <td>NaN</td>\n",
       "      <td>4282.0</td>\n",
       "      <td>25.0</td>\n",
       "      <td>0.0</td>\n",
       "      <td>2010</td>\n",
       "      <td>267.625000</td>\n",
       "    </tr>\n",
       "    <tr>\n",
       "      <th>1</th>\n",
       "      <td>enexis</td>\n",
       "      <td>ENEXIS</td>\n",
       "      <td>Sasdijk</td>\n",
       "      <td>4251AC</td>\n",
       "      <td>4251AC</td>\n",
       "      <td>WERKENDAM</td>\n",
       "      <td>100.0</td>\n",
       "      <td>11.0</td>\n",
       "      <td>100.0</td>\n",
       "      <td>NaN</td>\n",
       "      <td>NaN</td>\n",
       "      <td>5113.0</td>\n",
       "      <td>10.0</td>\n",
       "      <td>0.0</td>\n",
       "      <td>2010</td>\n",
       "      <td>464.818182</td>\n",
       "    </tr>\n",
       "    <tr>\n",
       "      <th>2</th>\n",
       "      <td>enexis</td>\n",
       "      <td>ENEXIS</td>\n",
       "      <td>Sasdijk</td>\n",
       "      <td>4251AD</td>\n",
       "      <td>4251AD</td>\n",
       "      <td>WERKENDAM</td>\n",
       "      <td>100.0</td>\n",
       "      <td>30.0</td>\n",
       "      <td>100.0</td>\n",
       "      <td>NaN</td>\n",
       "      <td>NaN</td>\n",
       "      <td>4809.0</td>\n",
       "      <td>34.0</td>\n",
       "      <td>0.0</td>\n",
       "      <td>2010</td>\n",
       "      <td>160.300000</td>\n",
       "    </tr>\n",
       "    <tr>\n",
       "      <th>3</th>\n",
       "      <td>enexis</td>\n",
       "      <td>ENEXIS</td>\n",
       "      <td>Nieuweweg</td>\n",
       "      <td>4251AE</td>\n",
       "      <td>4251AG</td>\n",
       "      <td>WERKENDAM</td>\n",
       "      <td>100.0</td>\n",
       "      <td>21.0</td>\n",
       "      <td>100.0</td>\n",
       "      <td>NaN</td>\n",
       "      <td>NaN</td>\n",
       "      <td>5015.0</td>\n",
       "      <td>44.0</td>\n",
       "      <td>0.0</td>\n",
       "      <td>2010</td>\n",
       "      <td>238.809524</td>\n",
       "    </tr>\n",
       "    <tr>\n",
       "      <th>4</th>\n",
       "      <td>enexis</td>\n",
       "      <td>ENEXIS</td>\n",
       "      <td>Koppenhof</td>\n",
       "      <td>4251AH</td>\n",
       "      <td>4251AH</td>\n",
       "      <td>WERKENDAM</td>\n",
       "      <td>100.0</td>\n",
       "      <td>12.0</td>\n",
       "      <td>100.0</td>\n",
       "      <td>NaN</td>\n",
       "      <td>NaN</td>\n",
       "      <td>3074.0</td>\n",
       "      <td>22.0</td>\n",
       "      <td>0.0</td>\n",
       "      <td>2010</td>\n",
       "      <td>256.166667</td>\n",
       "    </tr>\n",
       "  </tbody>\n",
       "</table>\n",
       "</div>"
      ],
      "text/plain": [
       "  net_manager purchase_area     street zipcode_from zipcode_to       city  \\\n",
       "0      enexis        ENEXIS    Sasdijk       4251AB     4251AB  WERKENDAM   \n",
       "1      enexis        ENEXIS    Sasdijk       4251AC     4251AC  WERKENDAM   \n",
       "2      enexis        ENEXIS    Sasdijk       4251AD     4251AD  WERKENDAM   \n",
       "3      enexis        ENEXIS  Nieuweweg       4251AE     4251AG  WERKENDAM   \n",
       "4      enexis        ENEXIS  Koppenhof       4251AH     4251AH  WERKENDAM   \n",
       "\n",
       "   delivery_perc  num_connections  perc_of_active_connections  type_conn_perc  \\\n",
       "0          100.0             16.0                       100.0             NaN   \n",
       "1          100.0             11.0                       100.0             NaN   \n",
       "2          100.0             30.0                       100.0             NaN   \n",
       "3          100.0             21.0                       100.0             NaN   \n",
       "4          100.0             12.0                       100.0             NaN   \n",
       "\n",
       "  type_of_connection  annual_consume  annual_consume_lowtarif_perc  \\\n",
       "0                NaN          4282.0                          25.0   \n",
       "1                NaN          5113.0                          10.0   \n",
       "2                NaN          4809.0                          34.0   \n",
       "3                NaN          5015.0                          44.0   \n",
       "4                NaN          3074.0                          22.0   \n",
       "\n",
       "   smartmeter_perc  year  cons_per_conn  \n",
       "0              0.0  2010     267.625000  \n",
       "1              0.0  2010     464.818182  \n",
       "2              0.0  2010     160.300000  \n",
       "3              0.0  2010     238.809524  \n",
       "4              0.0  2010     256.166667  "
      ]
     },
     "execution_count": 14,
     "metadata": {},
     "output_type": "execute_result"
    }
   ],
   "source": [
    "#create a new column of 'cons_per_conn' which represent the value of consumption per connection\n",
    "eltr_df['cons_per_conn']=eltr_df['annual_consume']/eltr_df['num_connections']\n",
    "gas_df['cons_per_conn']=gas_df['annual_consume']/gas_df['num_connections']\n",
    "\n",
    "\n",
    "eltr_df.head()"
   ]
  },
  {
   "cell_type": "code",
   "execution_count": 15,
   "metadata": {},
   "outputs": [
    {
     "data": {
      "image/png": "[encoded data removed]",
      "text/plain": [
       "<Figure size 1080x432 with 4 Axes>"
      ]
     },
     "metadata": {
      "needs_background": "light"
     },
     "output_type": "display_data"
    }
   ],
   "source": [
    "x1 = [2010,2011,2012,2013,2014,2015,2016,2017,2018,2019]\n",
    "#x2 is the same as x1, so they will share x axis\n",
    "\n",
    "y1 = eltr_df.groupby('year').annual_consume.sum()\n",
    "y2 = gas_df.groupby('year').annual_consume.sum()\n",
    "y3 = eltr_df.groupby('year').cons_per_conn.mean()\n",
    "y4 = gas_df.groupby('year').cons_per_conn.mean()\n",
    "\n",
    "plt.figure(figsize=(15,6))\n",
    "\n",
    "ax1=plt.subplot(2, 2, 1)\n",
    "plt.plot(x1, y1, 'o-')\n",
    "plt.title('Yearly Total Consumption of Electricity (kWh) and Gas (m3)')\n",
    "plt.ylabel('Electricity in kWh')\n",
    "#change the visibility of the xtick to not visible\n",
    "plt.setp(ax1.get_xticklabels(), visible=False)\n",
    "\n",
    "ax2=plt.subplot(2, 2, 3,sharex=ax1)\n",
    "plt.plot(y2,'o-')\n",
    "plt.xlabel('year')\n",
    "plt.ylabel('Gas in m3')\n",
    "\n",
    "ax3=plt.subplot(2, 2, 2)\n",
    "plt.plot(x1, y3, 'o-')\n",
    "plt.setp(ax3.get_xticklabels(), visible=False)\n",
    "plt.title('Yearly Mean Consumption of Electricity (kWh) and Gas (m3)')\n",
    "\n",
    "ax4=plt.subplot(2, 2, 4,sharex=ax1)\n",
    "plt.plot(y4, 'o-')\n",
    "\n",
    "plt.show()"
   ]
  },
  {
   "cell_type": "markdown",
   "metadata": {},
   "source": [
    "It is interesting to see that the trend of the total energy and gas consumption increases from 2010 to 2012 then continuously drop to the lowest level in 2016 for electricity and 2017 for the gas. After that the trend increases back and year 2018 marked as the highest consumption in the past decade for gas. The increase of gas price since 2010 could lead to reducing the demand of gas energy and the demand show declination since 2012 until it reach the lowest in 2016. Weather is also a price indicator for gas which could play role in the total energy consumtion. This can be points to dig deeper into this.\n",
    "\n",
    "Meanwhile, the plots on the right show the mean consumption of both electricity and gas. This plot however show that the overal trend of the consumption are getting less year by year. Eventhouh the average household consumption of electricity and gas in 2018 increas than the previous year, they are still much lower than in year 2010. Which means on average the energy used by dutch people are getting less in the past decade. Do they opt for more renewable energy? Let find out about that next."
   ]
  },
  {
   "cell_type": "markdown",
   "metadata": {},
   "source": [
    "### What are the trend of the dutch people using renewable energy?"
   ]
  },
  {
   "cell_type": "markdown",
   "metadata": {},
   "source": [
    "The `delivery_perc` show the values of the net consumption of the electricity/gas and the lower the percentage mean more energy are given back. Assuming the energy given are are the renewable energy produces by the dutch, what I did here is calculate the percentage of the energy given back and using the data to calculated the mean of energy produce for each year and plot them."
   ]
  },
  {
   "cell_type": "code",
   "execution_count": 16,
   "metadata": {},
   "outputs": [],
   "source": [
    "#create a new column that store value of percentage energy produced\n",
    "eltr_df['renew_perc']= 100-eltr_df.delivery_perc"
   ]
  },
  {
   "cell_type": "code",
   "execution_count": 17,
   "metadata": {},
   "outputs": [
    {
     "data": {
      "text/plain": [
       "year\n",
       "2010     6.407625\n",
       "2011     6.199930\n",
       "2012     6.091108\n",
       "2013     6.314488\n",
       "2014     9.491075\n",
       "2015     9.998721\n",
       "2016    11.165215\n",
       "2017    12.222820\n",
       "2018    13.849552\n",
       "2019    16.379866\n",
       "Name: renew_perc, dtype: float64"
      ]
     },
     "execution_count": 17,
     "metadata": {},
     "output_type": "execute_result"
    }
   ],
   "source": [
    "#mask only the data that give back energy \n",
    "#and find the mean values based on year\n",
    "renew_mean=eltr_df[eltr_df.renew_perc > 0].groupby(['year']).renew_perc.mean()\n",
    "renew_mean"
   ]
  },
  {
   "cell_type": "code",
   "execution_count": 18,
   "metadata": {
    "scrolled": true
   },
   "outputs": [
    {
     "data": {
      "text/plain": [
       "year\n",
       "2010         NaN\n",
       "2011   -0.207695\n",
       "2012   -0.108822\n",
       "2013    0.223381\n",
       "2014    3.176587\n",
       "2015    0.507646\n",
       "2016    1.166494\n",
       "2017    1.057605\n",
       "2018    1.626732\n",
       "2019    2.530314\n",
       "Name: renew_perc, dtype: float64"
      ]
     },
     "execution_count": 18,
     "metadata": {},
     "output_type": "execute_result"
    }
   ],
   "source": [
    "#find whether the mean value of energy given back increase or decrease compare to the previous year\n",
    "renew_mean_diff=renew_mean.diff()\n",
    "renew_mean_diff"
   ]
  },
  {
   "cell_type": "markdown",
   "metadata": {},
   "source": [
    "The highest increment of energy given back(more people produce renewable energy like solar) is in 2014 and the trend increase since 2012 until latest. To make this easier to see, I plotted two graphs showing the pattern of mean energy consume by household and the energy given back yearly."
   ]
  },
  {
   "cell_type": "code",
   "execution_count": 19,
   "metadata": {},
   "outputs": [],
   "source": [
    "cons_per_conn= eltr_df.groupby('year').cons_per_conn.mean()"
   ]
  },
  {
   "cell_type": "code",
   "execution_count": 20,
   "metadata": {},
   "outputs": [
    {
     "data": {
      "image/png": "[encoded data removed]",
      "text/plain": [
       "<Figure size 432x288 with 2 Axes>"
      ]
     },
     "metadata": {
      "needs_background": "light"
     },
     "output_type": "display_data"
    }
   ],
   "source": [
    "fig, ax1 = plt.subplots()\n",
    "\n",
    "color = 'tab:red'\n",
    "ax1.set_xlabel('year')\n",
    "ax1.set_ylabel('mean energy consumption per connection(kWh)', color=color)\n",
    "ax1.plot(x1, cons_per_conn, color=color)\n",
    "ax1.tick_params(axis='y', labelcolor=color)\n",
    "\n",
    "ax2 = ax1.twinx()  # instantiate a second axes that shares the same x-axis\n",
    "\n",
    "color = 'tab:blue'\n",
    "ax2.set_ylabel('percentage energy given back (%)', color=color)  # we already handled the x-label with ax1\n",
    "ax2.plot(x1,renew_mean, color=color)\n",
    "ax2.tick_params(axis='y', labelcolor=color)\n",
    "plt.title('Total Energy Consumption and Energy Given Back across the Year')\n",
    "\n",
    "fig.tight_layout()\n",
    "plt.show()"
   ]
  },
  {
   "cell_type": "markdown",
   "metadata": {},
   "source": [
    "This plotted plots shows that the mean percentage energy produced increase yearly since the past decade and increase rapidly since 2014 eventhough the household mean energy consumption decreases."
   ]
  },
  {
   "cell_type": "markdown",
   "metadata": {},
   "source": [
    "### Which City has high in electricity consumption? "
   ]
  },
  {
   "cell_type": "markdown",
   "metadata": {},
   "source": [
    "For this part, I consider to find the cities with high consumption for the year 2018. Are they also among the top cities with total connection numbers? "
   ]
  },
  {
   "cell_type": "code",
   "execution_count": 33,
   "metadata": {},
   "outputs": [
    {
     "data": {
      "text/plain": [
       "city\n",
       "AMSTERDAM        55010230.00\n",
       "'S-GRAVENHAGE    40039600.00\n",
       "ROTTERDAM        36324022.00\n",
       "UTRECHT          22459675.00\n",
       "EINDHOVEN        17574828.49\n",
       "Name: annual_consume, dtype: float64"
      ]
     },
     "execution_count": 33,
     "metadata": {},
     "output_type": "execute_result"
    }
   ],
   "source": [
    "top_ct2018= eltr_df[eltr_df['year']==2018].groupby('city').annual_consume.sum().nlargest(5)\n",
    "top_ct2018"
   ]
  },
  {
   "cell_type": "code",
   "execution_count": 22,
   "metadata": {
    "scrolled": true
   },
   "outputs": [
    {
     "data": {
      "text/plain": [
       "city\n",
       "AMSTERDAM        4736313.0\n",
       "ROTTERDAM        3056245.0\n",
       "'S-GRAVENHAGE    2668500.0\n",
       "UTRECHT          1368767.0\n",
       "GRONINGEN         949205.0\n",
       "Name: num_connections, dtype: float64"
      ]
     },
     "execution_count": 22,
     "metadata": {},
     "output_type": "execute_result"
    }
   ],
   "source": [
    "eltr_df.groupby('city').num_connections.sum().nlargest(5)"
   ]
  },
  {
   "cell_type": "markdown",
   "metadata": {},
   "source": [
    "It is predicted that the city with higher population will have higher total consumption of energy and the above data proved it. The top 4 cities with highest consumption are Amsterdam, Rotterdam,S-Gravenhage and Utrecht and they have the highest population according to order as well. \n"
   ]
  },
  {
   "cell_type": "code",
   "execution_count": 38,
   "metadata": {
    "scrolled": true
   },
   "outputs": [
    {
     "data": {
      "text/plain": [
       "Index(['AMSTERDAM', ''S-GRAVENHAGE', 'ROTTERDAM', 'UTRECHT', 'EINDHOVEN'], dtype='object', name='city')"
      ]
     },
     "execution_count": 38,
     "metadata": {},
     "output_type": "execute_result"
    }
   ],
   "source": [
    "#find the top five cities\n",
    "cities=top_ct2018.index\n",
    "cities"
   ]
  },
  {
   "cell_type": "code",
   "execution_count": 39,
   "metadata": {
    "scrolled": true
   },
   "outputs": [
    {
     "data": {
      "text/plain": [
       "city           year\n",
       "'S-GRAVENHAGE  2010    40996950.00\n",
       "               2011    41290159.00\n",
       "               2012    41531382.00\n",
       "               2013    41187101.00\n",
       "               2014    41096176.00\n",
       "               2015    40013042.00\n",
       "               2016    39594997.00\n",
       "               2017    39570695.00\n",
       "               2018    40039600.00\n",
       "               2019    37661539.00\n",
       "AMSTERDAM      2010    54290067.00\n",
       "               2011    54305845.00\n",
       "               2012    54422131.00\n",
       "               2013    54733755.00\n",
       "               2014    55092954.00\n",
       "               2015    53253124.00\n",
       "               2016    55832552.00\n",
       "               2017    55438717.00\n",
       "               2018    55010230.00\n",
       "               2019    54836591.00\n",
       "EINDHOVEN      2010       31510.00\n",
       "               2011       30365.00\n",
       "               2012       30008.00\n",
       "               2013       50632.00\n",
       "               2014       56218.00\n",
       "               2015       56355.00\n",
       "               2016       74719.00\n",
       "               2017    16989602.00\n",
       "               2018    17574828.49\n",
       "               2019    17252205.96\n",
       "ROTTERDAM      2010    38366903.00\n",
       "               2011    38584201.00\n",
       "               2012    38813483.00\n",
       "               2013    38490463.00\n",
       "               2014    38396624.00\n",
       "               2015    37320188.00\n",
       "               2016    36699445.00\n",
       "               2017    36398520.00\n",
       "               2018    36324022.00\n",
       "               2019    34124167.00\n",
       "UTRECHT        2010    22101713.00\n",
       "               2011    22366586.00\n",
       "               2012    22663271.00\n",
       "               2013    22588350.00\n",
       "               2014    22499621.00\n",
       "               2015    22298750.00\n",
       "               2016    22266926.00\n",
       "               2017    22225266.00\n",
       "               2018    22459675.00\n",
       "               2019    20207704.00\n",
       "Name: annual_consume, dtype: float64"
      ]
     },
     "execution_count": 39,
     "metadata": {},
     "output_type": "execute_result"
    }
   ],
   "source": [
    "#masking the four cities only, and sum the annual energy consumption by 'city' and 'year'\n",
    "cities_yr=eltr_df[eltr_df.city.isin(cities)].groupby(['city','year']).annual_consume.sum()\n",
    "cities_yr"
   ]
  },
  {
   "cell_type": "code",
   "execution_count": 40,
   "metadata": {
    "scrolled": true
   },
   "outputs": [
    {
     "data": {
      "text/html": [
       "<div>\n",
       "<style scoped>\n",
       "    .dataframe tbody tr th:only-of-type {\n",
       "        vertical-align: middle;\n",
       "    }\n",
       "\n",
       "    .dataframe tbody tr th {\n",
       "        vertical-align: top;\n",
       "    }\n",
       "\n",
       "    .dataframe thead th {\n",
       "        text-align: right;\n",
       "    }\n",
       "</style>\n",
       "<table border=\"1\" class=\"dataframe\">\n",
       "  <thead>\n",
       "    <tr style=\"text-align: right;\">\n",
       "      <th></th>\n",
       "      <th>city</th>\n",
       "      <th>year</th>\n",
       "      <th>total</th>\n",
       "    </tr>\n",
       "  </thead>\n",
       "  <tbody>\n",
       "    <tr>\n",
       "      <th>0</th>\n",
       "      <td>'S-GRAVENHAGE</td>\n",
       "      <td>2010</td>\n",
       "      <td>40996950.00</td>\n",
       "    </tr>\n",
       "    <tr>\n",
       "      <th>1</th>\n",
       "      <td>'S-GRAVENHAGE</td>\n",
       "      <td>2011</td>\n",
       "      <td>41290159.00</td>\n",
       "    </tr>\n",
       "    <tr>\n",
       "      <th>2</th>\n",
       "      <td>'S-GRAVENHAGE</td>\n",
       "      <td>2012</td>\n",
       "      <td>41531382.00</td>\n",
       "    </tr>\n",
       "    <tr>\n",
       "      <th>3</th>\n",
       "      <td>'S-GRAVENHAGE</td>\n",
       "      <td>2013</td>\n",
       "      <td>41187101.00</td>\n",
       "    </tr>\n",
       "    <tr>\n",
       "      <th>4</th>\n",
       "      <td>'S-GRAVENHAGE</td>\n",
       "      <td>2014</td>\n",
       "      <td>41096176.00</td>\n",
       "    </tr>\n",
       "    <tr>\n",
       "      <th>5</th>\n",
       "      <td>'S-GRAVENHAGE</td>\n",
       "      <td>2015</td>\n",
       "      <td>40013042.00</td>\n",
       "    </tr>\n",
       "    <tr>\n",
       "      <th>6</th>\n",
       "      <td>'S-GRAVENHAGE</td>\n",
       "      <td>2016</td>\n",
       "      <td>39594997.00</td>\n",
       "    </tr>\n",
       "    <tr>\n",
       "      <th>7</th>\n",
       "      <td>'S-GRAVENHAGE</td>\n",
       "      <td>2017</td>\n",
       "      <td>39570695.00</td>\n",
       "    </tr>\n",
       "    <tr>\n",
       "      <th>8</th>\n",
       "      <td>'S-GRAVENHAGE</td>\n",
       "      <td>2018</td>\n",
       "      <td>40039600.00</td>\n",
       "    </tr>\n",
       "    <tr>\n",
       "      <th>9</th>\n",
       "      <td>'S-GRAVENHAGE</td>\n",
       "      <td>2019</td>\n",
       "      <td>37661539.00</td>\n",
       "    </tr>\n",
       "    <tr>\n",
       "      <th>10</th>\n",
       "      <td>AMSTERDAM</td>\n",
       "      <td>2010</td>\n",
       "      <td>54290067.00</td>\n",
       "    </tr>\n",
       "    <tr>\n",
       "      <th>11</th>\n",
       "      <td>AMSTERDAM</td>\n",
       "      <td>2011</td>\n",
       "      <td>54305845.00</td>\n",
       "    </tr>\n",
       "    <tr>\n",
       "      <th>12</th>\n",
       "      <td>AMSTERDAM</td>\n",
       "      <td>2012</td>\n",
       "      <td>54422131.00</td>\n",
       "    </tr>\n",
       "    <tr>\n",
       "      <th>13</th>\n",
       "      <td>AMSTERDAM</td>\n",
       "      <td>2013</td>\n",
       "      <td>54733755.00</td>\n",
       "    </tr>\n",
       "    <tr>\n",
       "      <th>14</th>\n",
       "      <td>AMSTERDAM</td>\n",
       "      <td>2014</td>\n",
       "      <td>55092954.00</td>\n",
       "    </tr>\n",
       "    <tr>\n",
       "      <th>15</th>\n",
       "      <td>AMSTERDAM</td>\n",
       "      <td>2015</td>\n",
       "      <td>53253124.00</td>\n",
       "    </tr>\n",
       "    <tr>\n",
       "      <th>16</th>\n",
       "      <td>AMSTERDAM</td>\n",
       "      <td>2016</td>\n",
       "      <td>55832552.00</td>\n",
       "    </tr>\n",
       "    <tr>\n",
       "      <th>17</th>\n",
       "      <td>AMSTERDAM</td>\n",
       "      <td>2017</td>\n",
       "      <td>55438717.00</td>\n",
       "    </tr>\n",
       "    <tr>\n",
       "      <th>18</th>\n",
       "      <td>AMSTERDAM</td>\n",
       "      <td>2018</td>\n",
       "      <td>55010230.00</td>\n",
       "    </tr>\n",
       "    <tr>\n",
       "      <th>19</th>\n",
       "      <td>AMSTERDAM</td>\n",
       "      <td>2019</td>\n",
       "      <td>54836591.00</td>\n",
       "    </tr>\n",
       "    <tr>\n",
       "      <th>20</th>\n",
       "      <td>EINDHOVEN</td>\n",
       "      <td>2010</td>\n",
       "      <td>31510.00</td>\n",
       "    </tr>\n",
       "    <tr>\n",
       "      <th>21</th>\n",
       "      <td>EINDHOVEN</td>\n",
       "      <td>2011</td>\n",
       "      <td>30365.00</td>\n",
       "    </tr>\n",
       "    <tr>\n",
       "      <th>22</th>\n",
       "      <td>EINDHOVEN</td>\n",
       "      <td>2012</td>\n",
       "      <td>30008.00</td>\n",
       "    </tr>\n",
       "    <tr>\n",
       "      <th>23</th>\n",
       "      <td>EINDHOVEN</td>\n",
       "      <td>2013</td>\n",
       "      <td>50632.00</td>\n",
       "    </tr>\n",
       "    <tr>\n",
       "      <th>24</th>\n",
       "      <td>EINDHOVEN</td>\n",
       "      <td>2014</td>\n",
       "      <td>56218.00</td>\n",
       "    </tr>\n",
       "    <tr>\n",
       "      <th>25</th>\n",
       "      <td>EINDHOVEN</td>\n",
       "      <td>2015</td>\n",
       "      <td>56355.00</td>\n",
       "    </tr>\n",
       "    <tr>\n",
       "      <th>26</th>\n",
       "      <td>EINDHOVEN</td>\n",
       "      <td>2016</td>\n",
       "      <td>74719.00</td>\n",
       "    </tr>\n",
       "    <tr>\n",
       "      <th>27</th>\n",
       "      <td>EINDHOVEN</td>\n",
       "      <td>2017</td>\n",
       "      <td>16989602.00</td>\n",
       "    </tr>\n",
       "    <tr>\n",
       "      <th>28</th>\n",
       "      <td>EINDHOVEN</td>\n",
       "      <td>2018</td>\n",
       "      <td>17574828.49</td>\n",
       "    </tr>\n",
       "    <tr>\n",
       "      <th>29</th>\n",
       "      <td>EINDHOVEN</td>\n",
       "      <td>2019</td>\n",
       "      <td>17252205.96</td>\n",
       "    </tr>\n",
       "    <tr>\n",
       "      <th>30</th>\n",
       "      <td>ROTTERDAM</td>\n",
       "      <td>2010</td>\n",
       "      <td>38366903.00</td>\n",
       "    </tr>\n",
       "    <tr>\n",
       "      <th>31</th>\n",
       "      <td>ROTTERDAM</td>\n",
       "      <td>2011</td>\n",
       "      <td>38584201.00</td>\n",
       "    </tr>\n",
       "    <tr>\n",
       "      <th>32</th>\n",
       "      <td>ROTTERDAM</td>\n",
       "      <td>2012</td>\n",
       "      <td>38813483.00</td>\n",
       "    </tr>\n",
       "    <tr>\n",
       "      <th>33</th>\n",
       "      <td>ROTTERDAM</td>\n",
       "      <td>2013</td>\n",
       "      <td>38490463.00</td>\n",
       "    </tr>\n",
       "    <tr>\n",
       "      <th>34</th>\n",
       "      <td>ROTTERDAM</td>\n",
       "      <td>2014</td>\n",
       "      <td>38396624.00</td>\n",
       "    </tr>\n",
       "    <tr>\n",
       "      <th>35</th>\n",
       "      <td>ROTTERDAM</td>\n",
       "      <td>2015</td>\n",
       "      <td>37320188.00</td>\n",
       "    </tr>\n",
       "    <tr>\n",
       "      <th>36</th>\n",
       "      <td>ROTTERDAM</td>\n",
       "      <td>2016</td>\n",
       "      <td>36699445.00</td>\n",
       "    </tr>\n",
       "    <tr>\n",
       "      <th>37</th>\n",
       "      <td>ROTTERDAM</td>\n",
       "      <td>2017</td>\n",
       "      <td>36398520.00</td>\n",
       "    </tr>\n",
       "    <tr>\n",
       "      <th>38</th>\n",
       "      <td>ROTTERDAM</td>\n",
       "      <td>2018</td>\n",
       "      <td>36324022.00</td>\n",
       "    </tr>\n",
       "    <tr>\n",
       "      <th>39</th>\n",
       "      <td>ROTTERDAM</td>\n",
       "      <td>2019</td>\n",
       "      <td>34124167.00</td>\n",
       "    </tr>\n",
       "    <tr>\n",
       "      <th>40</th>\n",
       "      <td>UTRECHT</td>\n",
       "      <td>2010</td>\n",
       "      <td>22101713.00</td>\n",
       "    </tr>\n",
       "    <tr>\n",
       "      <th>41</th>\n",
       "      <td>UTRECHT</td>\n",
       "      <td>2011</td>\n",
       "      <td>22366586.00</td>\n",
       "    </tr>\n",
       "    <tr>\n",
       "      <th>42</th>\n",
       "      <td>UTRECHT</td>\n",
       "      <td>2012</td>\n",
       "      <td>22663271.00</td>\n",
       "    </tr>\n",
       "    <tr>\n",
       "      <th>43</th>\n",
       "      <td>UTRECHT</td>\n",
       "      <td>2013</td>\n",
       "      <td>22588350.00</td>\n",
       "    </tr>\n",
       "    <tr>\n",
       "      <th>44</th>\n",
       "      <td>UTRECHT</td>\n",
       "      <td>2014</td>\n",
       "      <td>22499621.00</td>\n",
       "    </tr>\n",
       "    <tr>\n",
       "      <th>45</th>\n",
       "      <td>UTRECHT</td>\n",
       "      <td>2015</td>\n",
       "      <td>22298750.00</td>\n",
       "    </tr>\n",
       "    <tr>\n",
       "      <th>46</th>\n",
       "      <td>UTRECHT</td>\n",
       "      <td>2016</td>\n",
       "      <td>22266926.00</td>\n",
       "    </tr>\n",
       "    <tr>\n",
       "      <th>47</th>\n",
       "      <td>UTRECHT</td>\n",
       "      <td>2017</td>\n",
       "      <td>22225266.00</td>\n",
       "    </tr>\n",
       "    <tr>\n",
       "      <th>48</th>\n",
       "      <td>UTRECHT</td>\n",
       "      <td>2018</td>\n",
       "      <td>22459675.00</td>\n",
       "    </tr>\n",
       "    <tr>\n",
       "      <th>49</th>\n",
       "      <td>UTRECHT</td>\n",
       "      <td>2019</td>\n",
       "      <td>20207704.00</td>\n",
       "    </tr>\n",
       "  </tbody>\n",
       "</table>\n",
       "</div>"
      ],
      "text/plain": [
       "             city  year        total\n",
       "0   'S-GRAVENHAGE  2010  40996950.00\n",
       "1   'S-GRAVENHAGE  2011  41290159.00\n",
       "2   'S-GRAVENHAGE  2012  41531382.00\n",
       "3   'S-GRAVENHAGE  2013  41187101.00\n",
       "4   'S-GRAVENHAGE  2014  41096176.00\n",
       "5   'S-GRAVENHAGE  2015  40013042.00\n",
       "6   'S-GRAVENHAGE  2016  39594997.00\n",
       "7   'S-GRAVENHAGE  2017  39570695.00\n",
       "8   'S-GRAVENHAGE  2018  40039600.00\n",
       "9   'S-GRAVENHAGE  2019  37661539.00\n",
       "10      AMSTERDAM  2010  54290067.00\n",
       "11      AMSTERDAM  2011  54305845.00\n",
       "12      AMSTERDAM  2012  54422131.00\n",
       "13      AMSTERDAM  2013  54733755.00\n",
       "14      AMSTERDAM  2014  55092954.00\n",
       "15      AMSTERDAM  2015  53253124.00\n",
       "16      AMSTERDAM  2016  55832552.00\n",
       "17      AMSTERDAM  2017  55438717.00\n",
       "18      AMSTERDAM  2018  55010230.00\n",
       "19      AMSTERDAM  2019  54836591.00\n",
       "20      EINDHOVEN  2010     31510.00\n",
       "21      EINDHOVEN  2011     30365.00\n",
       "22      EINDHOVEN  2012     30008.00\n",
       "23      EINDHOVEN  2013     50632.00\n",
       "24      EINDHOVEN  2014     56218.00\n",
       "25      EINDHOVEN  2015     56355.00\n",
       "26      EINDHOVEN  2016     74719.00\n",
       "27      EINDHOVEN  2017  16989602.00\n",
       "28      EINDHOVEN  2018  17574828.49\n",
       "29      EINDHOVEN  2019  17252205.96\n",
       "30      ROTTERDAM  2010  38366903.00\n",
       "31      ROTTERDAM  2011  38584201.00\n",
       "32      ROTTERDAM  2012  38813483.00\n",
       "33      ROTTERDAM  2013  38490463.00\n",
       "34      ROTTERDAM  2014  38396624.00\n",
       "35      ROTTERDAM  2015  37320188.00\n",
       "36      ROTTERDAM  2016  36699445.00\n",
       "37      ROTTERDAM  2017  36398520.00\n",
       "38      ROTTERDAM  2018  36324022.00\n",
       "39      ROTTERDAM  2019  34124167.00\n",
       "40        UTRECHT  2010  22101713.00\n",
       "41        UTRECHT  2011  22366586.00\n",
       "42        UTRECHT  2012  22663271.00\n",
       "43        UTRECHT  2013  22588350.00\n",
       "44        UTRECHT  2014  22499621.00\n",
       "45        UTRECHT  2015  22298750.00\n",
       "46        UTRECHT  2016  22266926.00\n",
       "47        UTRECHT  2017  22225266.00\n",
       "48        UTRECHT  2018  22459675.00\n",
       "49        UTRECHT  2019  20207704.00"
      ]
     },
     "execution_count": 40,
     "metadata": {},
     "output_type": "execute_result"
    }
   ],
   "source": [
    "#rearrange data for plotting\n",
    "cities_yr.name='total'\n",
    "cities_yr=cities_yr.reset_index()\n",
    "cities_yr"
   ]
  },
  {
   "cell_type": "code",
   "execution_count": 41,
   "metadata": {
    "scrolled": true
   },
   "outputs": [
    {
     "data": {
      "image/png": "[encoded data removed]",
      "text/plain": [
       "<Figure size 576x360 with 1 Axes>"
      ]
     },
     "metadata": {
      "needs_background": "light"
     },
     "output_type": "display_data"
    }
   ],
   "source": [
    "plt.figure(figsize=[8,5])\n",
    "sns.lineplot(x='year', y='total', hue='city',  data=cities_yr)\n",
    "plt.ylabel('total consumption in kWh')\n",
    "plt.title('City with ')\n",
    "plt.show()"
   ]
  },
  {
   "cell_type": "markdown",
   "metadata": {},
   "source": [
    "As expected, Amterdam consume the highest energy in Netherlands as it is the main city in Netherlands and has the highest total city population in the country. The energy consumption of Eindoven from 2010 to 2016 seems suspicious  as the value differ so much. This could maybe because there is incomplete or missing data for that particular years."
   ]
  }
 ],
 "metadata": {
  "kernelspec": {
   "display_name": "Python 3",
   "language": "python",
   "name": "python3"
  },
  "language_info": {
   "codemirror_mode": {
    "name": "ipython",
    "version": 3
   },
   "file_extension": ".py",
   "mimetype": "text/x-python",
   "name": "python",
   "nbconvert_exporter": "python",
   "pygments_lexer": "ipython3",
   "version": "3.6.8"
  }
 },
 "nbformat": 4,
 "nbformat_minor": 2
}
